{
 "cells": [
  {
   "cell_type": "code",
   "execution_count": 34,
   "metadata": {},
   "outputs": [
    {
     "name": "stdout",
     "output_type": "stream",
     "text": [
      "cancer\n"
     ]
    }
   ],
   "source": [
    "# Without SVC Parameters\n",
    "\n",
    "import sklearn\n",
    "from sklearn import datasets\n",
    "from sklearn import svm\n",
    "from sklearn import metrics\n",
    "from sklearn.neighbors import KNeighborsClassifier as KNC\n",
    "\n",
    "cancer = datasets.load_breast_cancer()\n",
    "\n",
    "x = cancer.data\n",
    "y = cancer.target\n",
    "\n",
    "x_train, x_test, y_train, y_test = sklearn.model_selection.train_test_split(x, y, test_size = 0.2)\n",
    "classes = ['malignant', 'benign']\n",
    "\n",
    "# SVM\n",
    "clf = svm.SVC()\n",
    "clf.fit(x_train, y_train)\n",
    "\n",
    "y_pred = clf.predict(x_test)\n",
    "acc = metrics.accuracy_score(y_test, y_pred)\n",
    "\n",
    "print(acc)"
   ]
  },
  {
   "cell_type": "code",
   "execution_count": 34,
   "metadata": {},
   "outputs": [
    {
     "name": "stdout",
     "output_type": "stream",
     "text": [
      "Accuracy:\n",
      "Using Linear Kernel: 0.9649122807017544\n",
      "Using Linear Kernel with margin C = 2: 0.9736842105263158\n",
      "Using Poly Kernel: 0.9298245614035088\n",
      "Using KNN: 0.956140350877193\n"
     ]
    }
   ],
   "source": [
    "# Adding SVC Parameters\n",
    "\n",
    "import sklearn\n",
    "from sklearn import datasets\n",
    "from sklearn import svm\n",
    "from sklearn import metrics\n",
    "from sklearn.neighbors import KNeighborsClassifier as KNC\n",
    "\n",
    "cancer = datasets.load_breast_cancer()\n",
    "\n",
    "x = cancer.data\n",
    "y = cancer.target\n",
    "\n",
    "x_train, x_test, y_train, y_test = sklearn.model_selection.train_test_split(x, y, test_size = 0.2)\n",
    "classes = ['malignant', 'benign']\n",
    "\n",
    "# SVM with SVC Parameters\n",
    "\n",
    "# using linear\n",
    "clfLin = svm.SVC(kernel = 'linear')\n",
    "clfLin.fit(x_train, y_train)\n",
    "y_pred = clfLin.predict(x_test)\n",
    "accLin = metrics.accuracy_score(y_test, y_pred)\n",
    "\n",
    "# using linear with soft margin\n",
    "margin = 2 # margin = 0 is hard margin\n",
    "clfLinSoft = svm.SVC(kernel = 'linear', C=margin)\n",
    "clfLinSoft.fit(x_train, y_train)\n",
    "y_pred = clfLinSoft.predict(x_test)\n",
    "accLinSoft = metrics.accuracy_score(y_test, y_pred)\n",
    "\n",
    "# using poly\n",
    "clfPoly = svm.SVC(kernel = 'poly') # clfPoly = svm.SVC(kernel = 'poly', degree = ... )\n",
    "clfPoly.fit(x_train, y_train)\n",
    "y_pred = clfPoly.predict(x_test)\n",
    "accPoly = metrics.accuracy_score(y_test, y_pred)\n",
    "\n",
    "# comparing with KNN\n",
    "clfKNN = KNC(n_neighbors = 10)\n",
    "clfKNN.fit(x_train, y_train)\n",
    "y_pred = clfKNN.predict(x_test)\n",
    "accKNN = metrics.accuracy_score(y_test, y_pred)\n",
    "\n",
    "# printing results\n",
    "print(\"Accuracy:\")\n",
    "print(\"Using Linear Kernel:\", accLin)\n",
    "print(\"Using Linear Kernel with margin C =\", margin, end='')\n",
    "print(\":\", accLinSoft)\n",
    "print(\"Using Poly Kernel:\", accPoly)\n",
    "print(\"Using KNN:\", accKNN)"
   ]
  },
  {
   "cell_type": "code",
   "execution_count": null,
   "metadata": {},
   "outputs": [],
   "source": []
  }
 ],
 "metadata": {
  "kernelspec": {
   "display_name": "Python 3",
   "language": "python",
   "name": "python3"
  },
  "language_info": {
   "codemirror_mode": {
    "name": "ipython",
    "version": 3
   },
   "file_extension": ".py",
   "mimetype": "text/x-python",
   "name": "python",
   "nbconvert_exporter": "python",
   "pygments_lexer": "ipython3",
   "version": "3.7.6"
  }
 },
 "nbformat": 4,
 "nbformat_minor": 4
}
