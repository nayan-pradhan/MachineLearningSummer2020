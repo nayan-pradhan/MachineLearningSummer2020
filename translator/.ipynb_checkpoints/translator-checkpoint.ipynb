{
 "cells": [
  {
   "cell_type": "code",
   "execution_count": 2,
   "metadata": {},
   "outputs": [
    {
     "name": "stdout",
     "output_type": "stream",
     "text": [
      "Collecting googletrans\n",
      "  Downloading googletrans-3.0.0.tar.gz (17 kB)\n",
      "Collecting httpx==0.13.3\n",
      "  Downloading httpx-0.13.3-py3-none-any.whl (55 kB)\n",
      "\u001b[K     |████████████████████████████████| 55 kB 3.1 MB/s eta 0:00:01\n",
      "\u001b[?25hRequirement already satisfied: idna==2.* in /Users/nayanpradhan/opt/anaconda3/lib/python3.7/site-packages (from httpx==0.13.3->googletrans) (2.8)\n",
      "Collecting rfc3986<2,>=1.3\n",
      "  Downloading rfc3986-1.4.0-py2.py3-none-any.whl (31 kB)\n",
      "Requirement already satisfied: chardet==3.* in /Users/nayanpradhan/opt/anaconda3/lib/python3.7/site-packages (from httpx==0.13.3->googletrans) (3.0.4)\n",
      "Collecting httpcore==0.9.*\n",
      "  Downloading httpcore-0.9.1-py3-none-any.whl (42 kB)\n",
      "\u001b[K     |████████████████████████████████| 42 kB 2.3 MB/s  eta 0:00:01\n",
      "\u001b[?25hCollecting sniffio\n",
      "  Downloading sniffio-1.1.0-py3-none-any.whl (4.5 kB)\n",
      "Requirement already satisfied: certifi in /Users/nayanpradhan/opt/anaconda3/lib/python3.7/site-packages (from httpx==0.13.3->googletrans) (2019.11.28)\n",
      "Collecting hstspreload\n",
      "  Downloading hstspreload-2020.7.22-py3-none-any.whl (922 kB)\n",
      "\u001b[K     |████████████████████████████████| 922 kB 2.6 MB/s eta 0:00:01\n",
      "\u001b[?25hCollecting h11<0.10,>=0.8\n",
      "  Downloading h11-0.9.0-py2.py3-none-any.whl (53 kB)\n",
      "\u001b[K     |████████████████████████████████| 53 kB 3.3 MB/s eta 0:00:011\n",
      "\u001b[?25hCollecting h2==3.*\n",
      "  Downloading h2-3.2.0-py2.py3-none-any.whl (65 kB)\n",
      "\u001b[K     |████████████████████████████████| 65 kB 4.6 MB/s  eta 0:00:01\n",
      "\u001b[?25hCollecting hyperframe<6,>=5.2.0\n",
      "  Downloading hyperframe-5.2.0-py2.py3-none-any.whl (12 kB)\n",
      "Collecting hpack<4,>=3.0\n",
      "  Downloading hpack-3.0.0-py2.py3-none-any.whl (38 kB)\n",
      "Building wheels for collected packages: googletrans\n",
      "  Building wheel for googletrans (setup.py) ... \u001b[?25ldone\n",
      "\u001b[?25h  Created wheel for googletrans: filename=googletrans-3.0.0-py3-none-any.whl size=15734 sha256=77e6b20bd4abce46f018b0f47b74daa807d9b36b25e36dabc1b71c8d6a73c03a\n",
      "  Stored in directory: /Users/nayanpradhan/Library/Caches/pip/wheels/20/da/eb/a54579056f265eede0417df537dd56d3df5b9eb2b25df0003d\n",
      "Successfully built googletrans\n",
      "Installing collected packages: rfc3986, h11, hyperframe, hpack, h2, sniffio, httpcore, hstspreload, httpx, googletrans\n",
      "Successfully installed googletrans-3.0.0 h11-0.9.0 h2-3.2.0 hpack-3.0.0 hstspreload-2020.7.22 httpcore-0.9.1 httpx-0.13.3 hyperframe-5.2.0 rfc3986-1.4.0 sniffio-1.1.0\n",
      "Note: you may need to restart the kernel to use updated packages.\n"
     ]
    }
   ],
   "source": [
    "pip install googletrans"
   ]
  },
  {
   "cell_type": "code",
   "execution_count": 8,
   "metadata": {},
   "outputs": [
    {
     "name": "stdout",
     "output_type": "stream",
     "text": [
      "Hello. How are you? What is your name? How old are you? What is your occupation? What time is it? Where are you from? Hope you are doing good. See you soon!\n",
      "\n",
      "\n",
      "Translated(src=en, dest=en, text=Hello. How are you? What is your name? How old are you? What is your occupation? What time is it? Where are you from? Hope you are doing good. See you soon!, pronunciation=Hello. How are you? What is your name? How old are you? What is your occupation? What time is it? Where are you from? Hope you are doing good. See you soon!, extra_data=\"{'translat...\")\n"
     ]
    }
   ],
   "source": [
    "import os\n",
    "import nltk\n",
    "import nltk.corpus\n",
    "from googletrans import Translator\n",
    "\n",
    "file = open('sourceText.txt', 'r')\n",
    "data = file.read()\n",
    "\n",
    "translator = Translator()\n",
    "\n",
    "result = translator.translate(data)\n",
    "print(data)\n",
    "print('\\n')\n",
    "print(result)"
   ]
  },
  {
   "cell_type": "code",
   "execution_count": null,
   "metadata": {},
   "outputs": [],
   "source": []
  }
 ],
 "metadata": {
  "kernelspec": {
   "display_name": "Python 3",
   "language": "python",
   "name": "python3"
  },
  "language_info": {
   "codemirror_mode": {
    "name": "ipython",
    "version": 3
   },
   "file_extension": ".py",
   "mimetype": "text/x-python",
   "name": "python",
   "nbconvert_exporter": "python",
   "pygments_lexer": "ipython3",
   "version": "3.7.6"
  }
 },
 "nbformat": 4,
 "nbformat_minor": 4
}
