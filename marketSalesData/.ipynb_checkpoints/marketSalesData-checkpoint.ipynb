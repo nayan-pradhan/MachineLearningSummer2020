{
 "cells": [
  {
   "cell_type": "code",
   "execution_count": 9,
   "metadata": {},
   "outputs": [],
   "source": [
    "import sklearn\n",
    "from sklearn.neighbors import KNeighborsClassifier\n",
    "import pandas as pd\n",
    "import numpy as np\n",
    "from sklearn import linear_model, preprocessing\n",
    "import math"
   ]
  },
  {
   "cell_type": "code",
   "execution_count": 10,
   "metadata": {},
   "outputs": [],
   "source": [
    "trainData = pd.read_csv(\"Train.csv\")\n",
    "testData = pd.read_csv(\"Test.csv\")\n",
    "# trainData.head()\n",
    "# testData.head()"
   ]
  },
  {
   "cell_type": "code",
   "execution_count": 11,
   "metadata": {},
   "outputs": [],
   "source": [
    "le = preprocessing.LabelEncoder()\n",
    "Item_Identifier = le.fit_transform(list(trainData[\"Item_Identifier\"]))\n",
    "Item_Fat_Content = le.fit_transform(list(trainData[\"Item_Fat_Content\"]))\n",
    "Item_Type = le.fit_transform(list(trainData[\"Item_Type\"]))\n",
    "Outlet_Identifier = le.fit_transform(list(trainData[\"Outlet_Identifier\"]))\n",
    "Outlet_Size = le.fit_transform(list(trainData[\"Outlet_Size\"]))\n",
    "Outlet_Location_Type = le.fit_transform(list(trainData[\"Outlet_Location_Type\"]))\n",
    "Outlet_Type = le.fit_transform(list(trainData[\"Outlet_Type\"]))"
   ]
  },
  {
   "cell_type": "code",
   "execution_count": 12,
   "metadata": {},
   "outputs": [],
   "source": [
    "predict = \"Item_Outlet_Sales\"\n",
    "\n",
    "X = np.array(trainData.drop([predict], 1))\n",
    "y = np.array(trainData[predict])\n"
   ]
  },
  {
   "cell_type": "code",
   "execution_count": 13,
   "metadata": {},
   "outputs": [],
   "source": [
    "K = math.sqrt(len(trainData))\n",
    "model = KNeighborsClassifier(n_neighbors = int(K))"
   ]
  },
  {
   "cell_type": "code",
   "execution_count": null,
   "metadata": {},
   "outputs": [],
   "source": []
  },
  {
   "cell_type": "code",
   "execution_count": null,
   "metadata": {},
   "outputs": [],
   "source": []
  }
 ],
 "metadata": {
  "kernelspec": {
   "display_name": "Python 3",
   "language": "python",
   "name": "python3"
  },
  "language_info": {
   "codemirror_mode": {
    "name": "ipython",
    "version": 3
   },
   "file_extension": ".py",
   "mimetype": "text/x-python",
   "name": "python",
   "nbconvert_exporter": "python",
   "pygments_lexer": "ipython3",
   "version": "3.7.6"
  }
 },
 "nbformat": 4,
 "nbformat_minor": 4
}
