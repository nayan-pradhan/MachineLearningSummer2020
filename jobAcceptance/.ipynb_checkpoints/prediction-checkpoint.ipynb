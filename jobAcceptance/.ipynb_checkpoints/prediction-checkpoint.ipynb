{
 "cells": [
  {
   "cell_type": "code",
   "execution_count": 46,
   "metadata": {},
   "outputs": [],
   "source": [
    "## PREDICTION WHETHER AN EMPLOYER GETS ACCEPTED OR REJECTED WHILE APPLYTING TO A JOB"
   ]
  },
  {
   "cell_type": "code",
   "execution_count": 48,
   "metadata": {},
   "outputs": [
    {
     "name": "stdout",
     "output_type": "stream",
     "text": [
      "Accuracy = 0.6878196929266244\n"
     ]
    }
   ],
   "source": [
    "# USING LINEAR REGRESSION\n",
    "\n",
    "import os\n",
    "import numpy as np\n",
    "import pandas as pd\n",
    "from pandas import read_csv\n",
    "import sklearn\n",
    "from sklearn import linear_model\n",
    "from sklearn.utils import shuffle\n",
    "import matplotlib.pyplot as pyplot\n",
    "import pickle\n",
    "from matplotlib import style\n",
    "from sklearn import preprocessing\n",
    "\n",
    "data = pd.read_csv(\"Placement.csv\") # import data\n",
    "data = data[[\"gender\", \"ssc_p\", \"ssc_b\", \"hsc_p\", \"hsc_b\", \"hsc_s\", \"degree_p\", \"degree_t\", \"workex\", \"etest_p\", \"specialisation\", \"mba_p\",\"status\",\"salary\"]] # data sets\n",
    "\n",
    "# changing the strings into integers for prediction\n",
    "le = preprocessing.LabelEncoder()\n",
    "data.gender = le.fit_transform(list(data[\"gender\"]))\n",
    "data.ssc_p = le.fit_transform(list(data[\"ssc_p\"]))\n",
    "data.ssc_b = le.fit_transform(list(data[\"ssc_b\"]))\n",
    "data.hsc_p = le.fit_transform(list(data[\"hsc_p\"]))\n",
    "data.hsc_b = le.fit_transform(list(data[\"hsc_b\"]))\n",
    "data.hsc_s = le.fit_transform(list(data[\"hsc_s\"]))\n",
    "data.degree_p = le.fit_transform(list(data[\"degree_p\"]))\n",
    "data.degree_t = le.fit_transform(list(data[\"degree_t\"]))\n",
    "data.workex = le.fit_transform(list(data[\"workex\"]))\n",
    "data.etest_p = le.fit_transform(list(data[\"etest_p\"]))\n",
    "data.specialisation = le.fit_transform(list(data[\"specialisation\"]))\n",
    "data.mba_p = le.fit_transform(list(data[\"mba_p\"]))\n",
    "data.status = le.fit_transform(list(data[\"status\"]))\n",
    "data.salary = le.fit_transform(list(data[\"salary\"]))\n",
    "\n",
    "# print(data.head())\n",
    "predict = \"status\" # what to predict\n",
    "\n",
    "X = np.array(data.drop([predict], 1))\n",
    "y = np.array(data[predict])\n",
    "\n",
    "x_train, x_test, y_train, y_test = sklearn.model_selection.train_test_split(X, y, test_size = 0.2)\n",
    "\n",
    "linear = linear_model.LinearRegression()\n",
    "linear.fit(x_train, y_train)\n",
    "acc = linear.score(x_test, y_test)\n",
    "print(\"Accuracy =\", acc)"
   ]
  },
  {
   "cell_type": "code",
   "execution_count": 49,
   "metadata": {},
   "outputs": [
    {
     "name": "stdout",
     "output_type": "stream",
     "text": [
      "   gender  ssc_p  ssc_b  hsc_p  hsc_b  hsc_s  degree_p  degree_t  workex  \\\n",
      "0       1     46      1     93      1      1        14         2       0   \n",
      "1       1     82      0     79      1      2        74         2       1   \n",
      "2       1     42      0     51      0      0        27         0       0   \n",
      "3       1     22      0     14      0      2         3         2       0   \n",
      "4       1     98      0     70      0      1        65         0       0   \n",
      "\n",
      "   etest_p  specialisation  mba_p  status  salary  \n",
      "0        9               1     64       1      19  \n",
      "1       74               0    153       1       0  \n",
      "2       55               0     50       1      12  \n",
      "3       37               1     72       0      64  \n",
      "4       96               0     28       1      39  \n",
      "0.8321894436452048\n"
     ]
    }
   ],
   "source": [
    "# USING K NEAREST NEIGHBOURS (KNN)\n",
    "\n",
    "import os\n",
    "import numpy as np\n",
    "import pandas as pd\n",
    "from pandas import read_csv\n",
    "import sklearn\n",
    "from sklearn import linear_model\n",
    "from sklearn.utils import shuffle\n",
    "import matplotlib.pyplot as pyplot\n",
    "import pickle\n",
    "from matplotlib import style\n",
    "from sklearn import preprocessing\n",
    "\n",
    "data = pd.read_csv(\"Placement.csv\") # import data\n",
    "data = data[[\"gender\", \"ssc_p\", \"ssc_b\", \"hsc_p\", \"hsc_b\", \"hsc_s\", \"degree_p\", \"degree_t\", \"workex\", \"etest_p\", \"specialisation\", \"mba_p\",\"status\",\"salary\"]] # data sets\n",
    "\n",
    "# changing the strings into integers for prediction\n",
    "le = preprocessing.LabelEncoder()\n",
    "data.gender = le.fit_transform(list(data[\"gender\"]))\n",
    "data.ssc_p = le.fit_transform(list(data[\"ssc_p\"]))\n",
    "data.ssc_b = le.fit_transform(list(data[\"ssc_b\"]))\n",
    "data.hsc_p = le.fit_transform(list(data[\"hsc_p\"]))\n",
    "data.hsc_b = le.fit_transform(list(data[\"hsc_b\"]))\n",
    "data.hsc_s = le.fit_transform(list(data[\"hsc_s\"]))\n",
    "data.degree_p = le.fit_transform(list(data[\"degree_p\"]))\n",
    "data.degree_t = le.fit_transform(list(data[\"degree_t\"]))\n",
    "data.workex = le.fit_transform(list(data[\"workex\"]))\n",
    "data.etest_p = le.fit_transform(list(data[\"etest_p\"]))\n",
    "data.specialisation = le.fit_transform(list(data[\"specialisation\"]))\n",
    "data.mba_p = le.fit_transform(list(data[\"mba_p\"]))\n",
    "data.status = le.fit_transform(list(data[\"status\"]))\n",
    "data.salary = le.fit_transform(list(data[\"salary\"]))\n",
    "\n",
    "# print(data.head())\n",
    "predict = \"status\" # what to predict\n",
    "\n",
    "# X = list(zip(gender, ssc_p, ssc_b, hsc_p, hsc_b, hsc_s degree_p, degree_t, workex, etest_p, specialisation, mba_p, salary))\n",
    "# y = list(status)\n",
    "\n",
    "X = np.array(data.drop([predict], 1))\n",
    "y = np.array(data[predict])\n",
    "\n",
    "x_train, x_test, y_train, y_test = sklearn.model_selection.train_test_split(X, y, test_size = 0.2)\n",
    "\n",
    "linear = linear_model.LinearRegression()\n",
    "linear.fit(x_train, y_train)\n",
    "acc = linear.score(x_test, y_test)\n",
    "print(acc)"
   ]
  },
  {
   "cell_type": "code",
   "execution_count": null,
   "metadata": {},
   "outputs": [],
   "source": []
  }
 ],
 "metadata": {
  "kernelspec": {
   "display_name": "Python 3",
   "language": "python",
   "name": "python3"
  },
  "language_info": {
   "codemirror_mode": {
    "name": "ipython",
    "version": 3
   },
   "file_extension": ".py",
   "mimetype": "text/x-python",
   "name": "python",
   "nbconvert_exporter": "python",
   "pygments_lexer": "ipython3",
   "version": "3.7.6"
  }
 },
 "nbformat": 4,
 "nbformat_minor": 4
}
