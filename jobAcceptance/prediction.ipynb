{
 "cells": [
  {
   "cell_type": "code",
   "execution_count": 46,
   "metadata": {},
   "outputs": [],
   "source": [
    "## PREDICTION WHETHER AN EMPLOYER GETS ACCEPTED OR REJECTED WHILE APPLYTING TO A JOB\n",
    "## Salary was not included as a data set as salary exists ONLY if you have been accepted\n",
    "## Our problem is a classifier problem. You either get accepted or rejected. Using Linear Regression does not make sense as you might get decimal output. KNN is a classifier algorithm, hence gives better accuracy in our test (and makes sense!)."
   ]
  },
  {
   "cell_type": "code",
   "execution_count": 71,
   "metadata": {},
   "outputs": [
    {
     "name": "stdout",
     "output_type": "stream",
     "text": [
      "Accuracy using Linear Regression: 0.5436905577948978\n"
     ]
    }
   ],
   "source": [
    "# USING LINEAR REGRESSION\n",
    "\n",
    "# use pickle later\n",
    "\n",
    "import os\n",
    "import numpy as np\n",
    "import pandas as pd\n",
    "from pandas import read_csv\n",
    "import sklearn\n",
    "from sklearn import linear_model\n",
    "from sklearn.utils import shuffle\n",
    "import matplotlib.pyplot as pyplot\n",
    "import pickle\n",
    "from matplotlib import style\n",
    "from sklearn import preprocessing\n",
    "\n",
    "data = pd.read_csv(\"Placement.csv\") # import data\n",
    "# data = data[[\"gender\", \"ssc_p\", \"ssc_b\", \"hsc_p\", \"hsc_b\", \"hsc_s\", \"degree_p\", \"degree_t\", \"workex\", \"etest_p\", \"specialisation\", \"mba_p\",\"status\",\"salary\"]] # data sets\n",
    "data = data[[\"gender\", \"ssc_p\", \"ssc_b\", \"hsc_p\", \"hsc_b\", \"hsc_s\", \"degree_p\", \"degree_t\", \"workex\", \"etest_p\", \"specialisation\", \"mba_p\",\"status\"]] # data sets EXCLUDING salary\n",
    "\n",
    "# changing the strings into integers for prediction\n",
    "le = preprocessing.LabelEncoder()\n",
    "data.gender = le.fit_transform(list(data[\"gender\"]))\n",
    "data.ssc_p = le.fit_transform(list(data[\"ssc_p\"]))\n",
    "data.ssc_b = le.fit_transform(list(data[\"ssc_b\"]))\n",
    "data.hsc_p = le.fit_transform(list(data[\"hsc_p\"]))\n",
    "data.hsc_b = le.fit_transform(list(data[\"hsc_b\"]))\n",
    "data.hsc_s = le.fit_transform(list(data[\"hsc_s\"]))\n",
    "data.degree_p = le.fit_transform(list(data[\"degree_p\"]))\n",
    "data.degree_t = le.fit_transform(list(data[\"degree_t\"]))\n",
    "data.workex = le.fit_transform(list(data[\"workex\"]))\n",
    "data.etest_p = le.fit_transform(list(data[\"etest_p\"]))\n",
    "data.specialisation = le.fit_transform(list(data[\"specialisation\"]))\n",
    "data.mba_p = le.fit_transform(list(data[\"mba_p\"]))\n",
    "data.status = le.fit_transform(list(data[\"status\"]))\n",
    "# data.salary = le.fit_transform(list(data[\"salary\"]))\n",
    "\n",
    "# print(data.head())\n",
    "predict = \"status\" # what to predict\n",
    "\n",
    "X = np.array(data.drop([predict], 1))\n",
    "y = np.array(data[predict])\n",
    "\n",
    "x_train, x_test, y_train, y_test = sklearn.model_selection.train_test_split(X, y, test_size = 0.2)\n",
    "\n",
    "linear = linear_model.LinearRegression()\n",
    "linear.fit(x_train, y_train)\n",
    "acc = linear.score(x_test, y_test)\n",
    "print(\"Accuracy using Linear Regression:\", acc)"
   ]
  },
  {
   "cell_type": "code",
   "execution_count": 67,
   "metadata": {},
   "outputs": [
    {
     "name": "stdout",
     "output_type": "stream",
     "text": [
      "Accuracy using KNN: 0.7674418604651163\n"
     ]
    }
   ],
   "source": [
    "# USING K NEAREST NEIGHBOURS (KNN)\n",
    "\n",
    "import os\n",
    "import numpy as np\n",
    "import pandas as pd\n",
    "from pandas import read_csv\n",
    "import sklearn\n",
    "from sklearn import linear_model\n",
    "from sklearn.utils import shuffle\n",
    "import matplotlib.pyplot as pyplot\n",
    "import pickle\n",
    "from matplotlib import style\n",
    "from sklearn import preprocessing\n",
    "from sklearn.neighbors import KNeighborsClassifier\n",
    "\n",
    "data = pd.read_csv(\"Placement.csv\") # import data\n",
    "data = data[[\"gender\", \"ssc_p\", \"ssc_b\", \"hsc_p\", \"hsc_b\", \"hsc_s\", \"degree_p\", \"degree_t\", \"workex\", \"etest_p\", \"specialisation\", \"mba_p\",\"status\",\"salary\"]] # data sets\n",
    "data = data[[\"gender\", \"ssc_p\", \"ssc_b\", \"hsc_p\", \"hsc_b\", \"hsc_s\", \"degree_p\", \"degree_t\", \"workex\", \"etest_p\", \"specialisation\", \"mba_p\",\"status\"]] # data sets excluding salary\n",
    "\n",
    "# changing the strings into integers for prediction\n",
    "le = preprocessing.LabelEncoder()\n",
    "data.gender = le.fit_transform(list(data[\"gender\"]))\n",
    "data.ssc_p = le.fit_transform(list(data[\"ssc_p\"]))\n",
    "data.ssc_b = le.fit_transform(list(data[\"ssc_b\"]))\n",
    "data.hsc_p = le.fit_transform(list(data[\"hsc_p\"]))\n",
    "data.hsc_b = le.fit_transform(list(data[\"hsc_b\"]))\n",
    "data.hsc_s = le.fit_transform(list(data[\"hsc_s\"]))\n",
    "data.degree_p = le.fit_transform(list(data[\"degree_p\"]))\n",
    "data.degree_t = le.fit_transform(list(data[\"degree_t\"]))\n",
    "data.workex = le.fit_transform(list(data[\"workex\"]))\n",
    "data.etest_p = le.fit_transform(list(data[\"etest_p\"]))\n",
    "data.specialisation = le.fit_transform(list(data[\"specialisation\"]))\n",
    "data.mba_p = le.fit_transform(list(data[\"mba_p\"]))\n",
    "data.status = le.fit_transform(list(data[\"status\"]))\n",
    "# data.salary = le.fit_transform(list(data[\"salary\"]))\n",
    "\n",
    "# print(data.head())\n",
    "predict = \"status\" # what to predict\n",
    "\n",
    "X = np.array(data.drop([predict], 1))\n",
    "y = np.array(data[predict])\n",
    "\n",
    "x_train, x_test, y_train, y_test = sklearn.model_selection.train_test_split(X, y, test_size = 0.2)\n",
    "\n",
    "K = 10 # adjust value of K accordingly\n",
    "model = KNeighborsClassifier(n_neighbors = K)\n",
    "\n",
    "model.fit(x_train, y_train)\n",
    "acc = model.score(x_test, y_test)\n",
    "print(\"Accuracy using KNN:\", acc)"
   ]
  },
  {
   "cell_type": "code",
   "execution_count": null,
   "metadata": {},
   "outputs": [],
   "source": []
  }
 ],
 "metadata": {
  "kernelspec": {
   "display_name": "Python 3",
   "language": "python",
   "name": "python3"
  },
  "language_info": {
   "codemirror_mode": {
    "name": "ipython",
    "version": 3
   },
   "file_extension": ".py",
   "mimetype": "text/x-python",
   "name": "python",
   "nbconvert_exporter": "python",
   "pygments_lexer": "ipython3",
   "version": "3.7.6"
  }
 },
 "nbformat": 4,
 "nbformat_minor": 4
}
